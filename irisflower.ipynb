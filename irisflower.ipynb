{
 "cells": [
  {
   "cell_type": "code",
   "execution_count": 2,
   "id": "9b9aef94",
   "metadata": {},
   "outputs": [],
   "source": [
    "import pandas as pd"
   ]
  },
  {
   "cell_type": "code",
   "execution_count": 3,
   "id": "9c71f58e",
   "metadata": {},
   "outputs": [
    {
     "name": "stdout",
     "output_type": "stream",
     "text": [
      "WARNING:tensorflow:From C:\\Users\\vnkin\\AppData\\Roaming\\Python\\Python311\\site-packages\\keras\\src\\losses.py:2976: The name tf.losses.sparse_softmax_cross_entropy is deprecated. Please use tf.compat.v1.losses.sparse_softmax_cross_entropy instead.\n",
      "\n"
     ]
    }
   ],
   "source": [
    "import pandas as pd\n",
    "import numpy as np\n",
    "import seaborn as sns\n",
    "from tensorflow import keras"
   ]
  },
  {
   "cell_type": "code",
   "execution_count": 4,
   "id": "20f83a28",
   "metadata": {},
   "outputs": [
    {
     "data": {
      "text/html": [
       "<div>\n",
       "<style scoped>\n",
       "    .dataframe tbody tr th:only-of-type {\n",
       "        vertical-align: middle;\n",
       "    }\n",
       "\n",
       "    .dataframe tbody tr th {\n",
       "        vertical-align: top;\n",
       "    }\n",
       "\n",
       "    .dataframe thead th {\n",
       "        text-align: right;\n",
       "    }\n",
       "</style>\n",
       "<table border=\"1\" class=\"dataframe\">\n",
       "  <thead>\n",
       "    <tr style=\"text-align: right;\">\n",
       "      <th></th>\n",
       "      <th>Id</th>\n",
       "      <th>SepalLengthCm</th>\n",
       "      <th>SepalWidthCm</th>\n",
       "      <th>PetalLengthCm</th>\n",
       "      <th>PetalWidthCm</th>\n",
       "      <th>Species</th>\n",
       "    </tr>\n",
       "  </thead>\n",
       "  <tbody>\n",
       "    <tr>\n",
       "      <th>0</th>\n",
       "      <td>1</td>\n",
       "      <td>5.1</td>\n",
       "      <td>3.5</td>\n",
       "      <td>1.4</td>\n",
       "      <td>0.2</td>\n",
       "      <td>Iris-setosa</td>\n",
       "    </tr>\n",
       "    <tr>\n",
       "      <th>1</th>\n",
       "      <td>2</td>\n",
       "      <td>4.9</td>\n",
       "      <td>3.0</td>\n",
       "      <td>1.4</td>\n",
       "      <td>0.2</td>\n",
       "      <td>Iris-setosa</td>\n",
       "    </tr>\n",
       "    <tr>\n",
       "      <th>2</th>\n",
       "      <td>3</td>\n",
       "      <td>4.7</td>\n",
       "      <td>3.2</td>\n",
       "      <td>1.3</td>\n",
       "      <td>0.2</td>\n",
       "      <td>Iris-setosa</td>\n",
       "    </tr>\n",
       "    <tr>\n",
       "      <th>3</th>\n",
       "      <td>4</td>\n",
       "      <td>4.6</td>\n",
       "      <td>3.1</td>\n",
       "      <td>1.5</td>\n",
       "      <td>0.2</td>\n",
       "      <td>Iris-setosa</td>\n",
       "    </tr>\n",
       "    <tr>\n",
       "      <th>4</th>\n",
       "      <td>5</td>\n",
       "      <td>5.0</td>\n",
       "      <td>3.6</td>\n",
       "      <td>1.4</td>\n",
       "      <td>0.2</td>\n",
       "      <td>Iris-setosa</td>\n",
       "    </tr>\n",
       "  </tbody>\n",
       "</table>\n",
       "</div>"
      ],
      "text/plain": [
       "   Id  SepalLengthCm  SepalWidthCm  PetalLengthCm  PetalWidthCm      Species\n",
       "0   1            5.1           3.5            1.4           0.2  Iris-setosa\n",
       "1   2            4.9           3.0            1.4           0.2  Iris-setosa\n",
       "2   3            4.7           3.2            1.3           0.2  Iris-setosa\n",
       "3   4            4.6           3.1            1.5           0.2  Iris-setosa\n",
       "4   5            5.0           3.6            1.4           0.2  Iris-setosa"
      ]
     },
     "execution_count": 4,
     "metadata": {},
     "output_type": "execute_result"
    }
   ],
   "source": [
    "df = pd.read_csv('Iris.csv')\n",
    "df.head()"
   ]
  },
  {
   "cell_type": "code",
   "execution_count": 5,
   "id": "ae0c59ab",
   "metadata": {},
   "outputs": [
    {
     "data": {
      "text/plain": [
       "Iris-setosa        50\n",
       "Iris-versicolor    50\n",
       "Iris-virginica     50\n",
       "Name: Species, dtype: int64"
      ]
     },
     "execution_count": 5,
     "metadata": {},
     "output_type": "execute_result"
    }
   ],
   "source": [
    "df['Species'].value_counts()"
   ]
  },
  {
   "cell_type": "code",
   "execution_count": 6,
   "id": "9e48411c",
   "metadata": {},
   "outputs": [
    {
     "name": "stdout",
     "output_type": "stream",
     "text": [
      "<class 'pandas.core.frame.DataFrame'>\n",
      "RangeIndex: 150 entries, 0 to 149\n",
      "Data columns (total 6 columns):\n",
      " #   Column         Non-Null Count  Dtype  \n",
      "---  ------         --------------  -----  \n",
      " 0   Id             150 non-null    int64  \n",
      " 1   SepalLengthCm  150 non-null    float64\n",
      " 2   SepalWidthCm   150 non-null    float64\n",
      " 3   PetalLengthCm  150 non-null    float64\n",
      " 4   PetalWidthCm   150 non-null    float64\n",
      " 5   Species        150 non-null    object \n",
      "dtypes: float64(4), int64(1), object(1)\n",
      "memory usage: 7.2+ KB\n"
     ]
    }
   ],
   "source": [
    "df.info()"
   ]
  },
  {
   "cell_type": "code",
   "execution_count": 7,
   "id": "22c8025d",
   "metadata": {},
   "outputs": [
    {
     "data": {
      "text/plain": [
       "Id               0\n",
       "SepalLengthCm    0\n",
       "SepalWidthCm     0\n",
       "PetalLengthCm    0\n",
       "PetalWidthCm     0\n",
       "Species          0\n",
       "dtype: int64"
      ]
     },
     "execution_count": 7,
     "metadata": {},
     "output_type": "execute_result"
    }
   ],
   "source": [
    "df.isnull().sum()"
   ]
  },
  {
   "cell_type": "code",
   "execution_count": 8,
   "id": "bf45febc",
   "metadata": {},
   "outputs": [
    {
     "data": {
      "text/html": [
       "<div>\n",
       "<style scoped>\n",
       "    .dataframe tbody tr th:only-of-type {\n",
       "        vertical-align: middle;\n",
       "    }\n",
       "\n",
       "    .dataframe tbody tr th {\n",
       "        vertical-align: top;\n",
       "    }\n",
       "\n",
       "    .dataframe thead th {\n",
       "        text-align: right;\n",
       "    }\n",
       "</style>\n",
       "<table border=\"1\" class=\"dataframe\">\n",
       "  <thead>\n",
       "    <tr style=\"text-align: right;\">\n",
       "      <th></th>\n",
       "      <th>Id</th>\n",
       "      <th>SepalLengthCm</th>\n",
       "      <th>SepalWidthCm</th>\n",
       "      <th>PetalLengthCm</th>\n",
       "      <th>PetalWidthCm</th>\n",
       "      <th>Species</th>\n",
       "    </tr>\n",
       "  </thead>\n",
       "  <tbody>\n",
       "    <tr>\n",
       "      <th>0</th>\n",
       "      <td>1</td>\n",
       "      <td>5.1</td>\n",
       "      <td>3.5</td>\n",
       "      <td>1.4</td>\n",
       "      <td>0.2</td>\n",
       "      <td>0</td>\n",
       "    </tr>\n",
       "    <tr>\n",
       "      <th>1</th>\n",
       "      <td>2</td>\n",
       "      <td>4.9</td>\n",
       "      <td>3.0</td>\n",
       "      <td>1.4</td>\n",
       "      <td>0.2</td>\n",
       "      <td>0</td>\n",
       "    </tr>\n",
       "    <tr>\n",
       "      <th>2</th>\n",
       "      <td>3</td>\n",
       "      <td>4.7</td>\n",
       "      <td>3.2</td>\n",
       "      <td>1.3</td>\n",
       "      <td>0.2</td>\n",
       "      <td>0</td>\n",
       "    </tr>\n",
       "    <tr>\n",
       "      <th>3</th>\n",
       "      <td>4</td>\n",
       "      <td>4.6</td>\n",
       "      <td>3.1</td>\n",
       "      <td>1.5</td>\n",
       "      <td>0.2</td>\n",
       "      <td>0</td>\n",
       "    </tr>\n",
       "    <tr>\n",
       "      <th>4</th>\n",
       "      <td>5</td>\n",
       "      <td>5.0</td>\n",
       "      <td>3.6</td>\n",
       "      <td>1.4</td>\n",
       "      <td>0.2</td>\n",
       "      <td>0</td>\n",
       "    </tr>\n",
       "  </tbody>\n",
       "</table>\n",
       "</div>"
      ],
      "text/plain": [
       "   Id  SepalLengthCm  SepalWidthCm  PetalLengthCm  PetalWidthCm  Species\n",
       "0   1            5.1           3.5            1.4           0.2        0\n",
       "1   2            4.9           3.0            1.4           0.2        0\n",
       "2   3            4.7           3.2            1.3           0.2        0\n",
       "3   4            4.6           3.1            1.5           0.2        0\n",
       "4   5            5.0           3.6            1.4           0.2        0"
      ]
     },
     "execution_count": 8,
     "metadata": {},
     "output_type": "execute_result"
    }
   ],
   "source": [
    "from sklearn.preprocessing import LabelEncoder\n",
    "le = LabelEncoder()\n",
    "df['Species'] = le.fit_transform(df['Species'])\n",
    "df.head()"
   ]
  },
  {
   "cell_type": "code",
   "execution_count": 9,
   "id": "d8818885",
   "metadata": {},
   "outputs": [
    {
     "name": "stdout",
     "output_type": "stream",
     "text": [
      "['Iris-setosa' 'Iris-versicolor' 'Iris-virginica']\n"
     ]
    }
   ],
   "source": [
    "species_name = le.classes_\n",
    "print(species_name)"
   ]
  },
  {
   "cell_type": "code",
   "execution_count": 10,
   "id": "9c203975",
   "metadata": {},
   "outputs": [
    {
     "data": {
      "text/html": [
       "<div>\n",
       "<style scoped>\n",
       "    .dataframe tbody tr th:only-of-type {\n",
       "        vertical-align: middle;\n",
       "    }\n",
       "\n",
       "    .dataframe tbody tr th {\n",
       "        vertical-align: top;\n",
       "    }\n",
       "\n",
       "    .dataframe thead th {\n",
       "        text-align: right;\n",
       "    }\n",
       "</style>\n",
       "<table border=\"1\" class=\"dataframe\">\n",
       "  <thead>\n",
       "    <tr style=\"text-align: right;\">\n",
       "      <th></th>\n",
       "      <th>SepalLengthCm</th>\n",
       "      <th>SepalWidthCm</th>\n",
       "      <th>PetalLengthCm</th>\n",
       "      <th>PetalWidthCm</th>\n",
       "    </tr>\n",
       "  </thead>\n",
       "  <tbody>\n",
       "    <tr>\n",
       "      <th>0</th>\n",
       "      <td>5.1</td>\n",
       "      <td>3.5</td>\n",
       "      <td>1.4</td>\n",
       "      <td>0.2</td>\n",
       "    </tr>\n",
       "    <tr>\n",
       "      <th>1</th>\n",
       "      <td>4.9</td>\n",
       "      <td>3.0</td>\n",
       "      <td>1.4</td>\n",
       "      <td>0.2</td>\n",
       "    </tr>\n",
       "    <tr>\n",
       "      <th>2</th>\n",
       "      <td>4.7</td>\n",
       "      <td>3.2</td>\n",
       "      <td>1.3</td>\n",
       "      <td>0.2</td>\n",
       "    </tr>\n",
       "  </tbody>\n",
       "</table>\n",
       "</div>"
      ],
      "text/plain": [
       "   SepalLengthCm  SepalWidthCm  PetalLengthCm  PetalWidthCm\n",
       "0            5.1           3.5            1.4           0.2\n",
       "1            4.9           3.0            1.4           0.2\n",
       "2            4.7           3.2            1.3           0.2"
      ]
     },
     "execution_count": 10,
     "metadata": {},
     "output_type": "execute_result"
    }
   ],
   "source": [
    "X = df.drop(columns=['Id', 'Species'])\n",
    "y = df['Species']\n",
    "X.head(3)"
   ]
  },
  {
   "cell_type": "code",
   "execution_count": 11,
   "id": "522dd889",
   "metadata": {},
   "outputs": [
    {
     "name": "stdout",
     "output_type": "stream",
     "text": [
      "0    0\n",
      "1    0\n",
      "2    0\n",
      "3    0\n",
      "4    0\n",
      "Name: Species, dtype: int32\n"
     ]
    }
   ],
   "source": [
    "print(y[:5])"
   ]
  },
  {
   "cell_type": "code",
   "execution_count": 13,
   "id": "c01118ed",
   "metadata": {},
   "outputs": [],
   "source": [
    "from sklearn.model_selection import train_test_split\n",
    "x_train, x_test, y_train, y_test = train_test_split(X, y, test_size=0.3, shuffle=True, random_state=69)"
   ]
  },
  {
   "cell_type": "code",
   "execution_count": 14,
   "id": "1aec07cf",
   "metadata": {},
   "outputs": [
    {
     "data": {
      "text/plain": [
       "(105, 4)"
      ]
     },
     "execution_count": 14,
     "metadata": {},
     "output_type": "execute_result"
    }
   ],
   "source": [
    "x_train.shape"
   ]
  },
  {
   "cell_type": "code",
   "execution_count": 15,
   "id": "72c168f8",
   "metadata": {},
   "outputs": [
    {
     "name": "stdout",
     "output_type": "stream",
     "text": [
      "    SepalLengthCm  SepalWidthCm  PetalLengthCm  PetalWidthCm\n",
      "57            4.9           2.4            3.3           1.0\n",
      "[[-1.14630942 -1.44374444 -0.25650655 -0.258263  ]]\n"
     ]
    }
   ],
   "source": [
    "from sklearn.preprocessing import StandardScaler\n",
    "sc = StandardScaler()\n",
    "print(x_train[:1])\n",
    "x_train = sc.fit_transform(x_train)\n",
    "x_test = sc.transform(x_test)\n",
    "print(x_train[:1])"
   ]
  },
  {
   "cell_type": "code",
   "execution_count": 16,
   "id": "cf9b0265",
   "metadata": {},
   "outputs": [
    {
     "name": "stdout",
     "output_type": "stream",
     "text": [
      "[[0. 1. 0.]\n",
      " [0. 0. 1.]\n",
      " [0. 1. 0.]\n",
      " [0. 1. 0.]\n",
      " [0. 1. 0.]]\n"
     ]
    }
   ],
   "source": [
    "y_train = keras.utils.to_categorical(y_train, num_classes=3)\n",
    "print(y_train[:5])"
   ]
  },
  {
   "cell_type": "code",
   "execution_count": 17,
   "id": "0641bc33",
   "metadata": {},
   "outputs": [],
   "source": [
    "from keras.models import Sequential\n",
    "from keras.layers import Dense, Dropout"
   ]
  },
  {
   "cell_type": "code",
   "execution_count": 18,
   "id": "11d2b4eb",
   "metadata": {},
   "outputs": [
    {
     "name": "stdout",
     "output_type": "stream",
     "text": [
      "WARNING:tensorflow:From C:\\Users\\vnkin\\AppData\\Roaming\\Python\\Python311\\site-packages\\keras\\src\\backend.py:873: The name tf.get_default_graph is deprecated. Please use tf.compat.v1.get_default_graph instead.\n",
      "\n"
     ]
    }
   ],
   "source": [
    "model = Sequential()\n",
    "model.add(Dense(units=32, activation='relu', input_shape=(x_train.shape[-1], )))\n",
    "model.add(Dense(units=32, activation='relu'))\n",
    "model.add(Dropout(0.5))\n",
    "model.add(Dense(units=3, activation='softmax'))"
   ]
  },
  {
   "cell_type": "code",
   "execution_count": 19,
   "id": "da0f2fad",
   "metadata": {},
   "outputs": [
    {
     "name": "stdout",
     "output_type": "stream",
     "text": [
      "WARNING:tensorflow:From C:\\Users\\vnkin\\AppData\\Roaming\\Python\\Python311\\site-packages\\keras\\src\\optimizers\\__init__.py:309: The name tf.train.Optimizer is deprecated. Please use tf.compat.v1.train.Optimizer instead.\n",
      "\n",
      "Model: \"sequential\"\n",
      "_________________________________________________________________\n",
      " Layer (type)                Output Shape              Param #   \n",
      "=================================================================\n",
      " dense (Dense)               (None, 32)                160       \n",
      "                                                                 \n",
      " dense_1 (Dense)             (None, 32)                1056      \n",
      "                                                                 \n",
      " dropout (Dropout)           (None, 32)                0         \n",
      "                                                                 \n",
      " dense_2 (Dense)             (None, 3)                 99        \n",
      "                                                                 \n",
      "=================================================================\n",
      "Total params: 1315 (5.14 KB)\n",
      "Trainable params: 1315 (5.14 KB)\n",
      "Non-trainable params: 0 (0.00 Byte)\n",
      "_________________________________________________________________\n"
     ]
    }
   ],
   "source": [
    "model.compile(optimizer='Adam', loss='categorical_crossentropy', metrics=['accuracy'])\n",
    "model.summary()"
   ]
  },
  {
   "cell_type": "code",
   "execution_count": 20,
   "id": "cfddaf88",
   "metadata": {},
   "outputs": [
    {
     "name": "stdout",
     "output_type": "stream",
     "text": [
      "Epoch 1/100\n",
      "WARNING:tensorflow:From C:\\Users\\vnkin\\AppData\\Roaming\\Python\\Python311\\site-packages\\keras\\src\\utils\\tf_utils.py:492: The name tf.ragged.RaggedTensorValue is deprecated. Please use tf.compat.v1.ragged.RaggedTensorValue instead.\n",
      "\n",
      "WARNING:tensorflow:From C:\\Users\\vnkin\\AppData\\Roaming\\Python\\Python311\\site-packages\\keras\\src\\engine\\base_layer_utils.py:384: The name tf.executing_eagerly_outside_functions is deprecated. Please use tf.compat.v1.executing_eagerly_outside_functions instead.\n",
      "\n",
      "4/4 - 1s - loss: 1.1972 - accuracy: 0.2762 - 1s/epoch - 290ms/step\n",
      "Epoch 2/100\n",
      "4/4 - 0s - loss: 1.1091 - accuracy: 0.3619 - 39ms/epoch - 10ms/step\n",
      "Epoch 3/100\n",
      "4/4 - 0s - loss: 1.0896 - accuracy: 0.3333 - 37ms/epoch - 9ms/step\n",
      "Epoch 4/100\n",
      "4/4 - 0s - loss: 1.0020 - accuracy: 0.4857 - 33ms/epoch - 8ms/step\n",
      "Epoch 5/100\n",
      "4/4 - 0s - loss: 0.9934 - accuracy: 0.5524 - 41ms/epoch - 10ms/step\n",
      "Epoch 6/100\n",
      "4/4 - 0s - loss: 0.9035 - accuracy: 0.5810 - 27ms/epoch - 7ms/step\n",
      "Epoch 7/100\n",
      "4/4 - 0s - loss: 0.8523 - accuracy: 0.6476 - 25ms/epoch - 6ms/step\n",
      "Epoch 8/100\n",
      "4/4 - 0s - loss: 0.8441 - accuracy: 0.6286 - 24ms/epoch - 6ms/step\n",
      "Epoch 9/100\n",
      "4/4 - 0s - loss: 0.8087 - accuracy: 0.7238 - 33ms/epoch - 8ms/step\n",
      "Epoch 10/100\n",
      "4/4 - 0s - loss: 0.7904 - accuracy: 0.7048 - 33ms/epoch - 8ms/step\n",
      "Epoch 11/100\n",
      "4/4 - 0s - loss: 0.7807 - accuracy: 0.7238 - 33ms/epoch - 8ms/step\n",
      "Epoch 12/100\n",
      "4/4 - 0s - loss: 0.7332 - accuracy: 0.7619 - 32ms/epoch - 8ms/step\n",
      "Epoch 13/100\n",
      "4/4 - 0s - loss: 0.7030 - accuracy: 0.7619 - 32ms/epoch - 8ms/step\n",
      "Epoch 14/100\n",
      "4/4 - 0s - loss: 0.7092 - accuracy: 0.7619 - 23ms/epoch - 6ms/step\n",
      "Epoch 15/100\n",
      "4/4 - 0s - loss: 0.6853 - accuracy: 0.7714 - 27ms/epoch - 7ms/step\n",
      "Epoch 16/100\n",
      "4/4 - 0s - loss: 0.6567 - accuracy: 0.7714 - 33ms/epoch - 8ms/step\n",
      "Epoch 17/100\n",
      "4/4 - 0s - loss: 0.6615 - accuracy: 0.7810 - 33ms/epoch - 8ms/step\n",
      "Epoch 18/100\n",
      "4/4 - 0s - loss: 0.6268 - accuracy: 0.7524 - 32ms/epoch - 8ms/step\n",
      "Epoch 19/100\n",
      "4/4 - 0s - loss: 0.6074 - accuracy: 0.7810 - 33ms/epoch - 8ms/step\n",
      "Epoch 20/100\n",
      "4/4 - 0s - loss: 0.5906 - accuracy: 0.8095 - 36ms/epoch - 9ms/step\n",
      "Epoch 21/100\n",
      "4/4 - 0s - loss: 0.6067 - accuracy: 0.8095 - 41ms/epoch - 10ms/step\n",
      "Epoch 22/100\n",
      "4/4 - 0s - loss: 0.5693 - accuracy: 0.7810 - 24ms/epoch - 6ms/step\n",
      "Epoch 23/100\n",
      "4/4 - 0s - loss: 0.5841 - accuracy: 0.8190 - 32ms/epoch - 8ms/step\n",
      "Epoch 24/100\n",
      "4/4 - 0s - loss: 0.5566 - accuracy: 0.8190 - 34ms/epoch - 9ms/step\n",
      "Epoch 25/100\n",
      "4/4 - 0s - loss: 0.5409 - accuracy: 0.8762 - 33ms/epoch - 8ms/step\n",
      "Epoch 26/100\n",
      "4/4 - 0s - loss: 0.4878 - accuracy: 0.8476 - 31ms/epoch - 8ms/step\n",
      "Epoch 27/100\n",
      "4/4 - 0s - loss: 0.5131 - accuracy: 0.8381 - 25ms/epoch - 6ms/step\n",
      "Epoch 28/100\n",
      "4/4 - 0s - loss: 0.5116 - accuracy: 0.8190 - 32ms/epoch - 8ms/step\n",
      "Epoch 29/100\n",
      "4/4 - 0s - loss: 0.4800 - accuracy: 0.8476 - 25ms/epoch - 6ms/step\n",
      "Epoch 30/100\n",
      "4/4 - 0s - loss: 0.4979 - accuracy: 0.8000 - 26ms/epoch - 7ms/step\n",
      "Epoch 31/100\n",
      "4/4 - 0s - loss: 0.4708 - accuracy: 0.8476 - 23ms/epoch - 6ms/step\n",
      "Epoch 32/100\n",
      "4/4 - 0s - loss: 0.4298 - accuracy: 0.8762 - 24ms/epoch - 6ms/step\n",
      "Epoch 33/100\n",
      "4/4 - 0s - loss: 0.4787 - accuracy: 0.8286 - 24ms/epoch - 6ms/step\n",
      "Epoch 34/100\n",
      "4/4 - 0s - loss: 0.4577 - accuracy: 0.8571 - 16ms/epoch - 4ms/step\n",
      "Epoch 35/100\n",
      "4/4 - 0s - loss: 0.4390 - accuracy: 0.8857 - 25ms/epoch - 6ms/step\n",
      "Epoch 36/100\n",
      "4/4 - 0s - loss: 0.3985 - accuracy: 0.8476 - 24ms/epoch - 6ms/step\n",
      "Epoch 37/100\n",
      "4/4 - 0s - loss: 0.3956 - accuracy: 0.8476 - 16ms/epoch - 4ms/step\n",
      "Epoch 38/100\n",
      "4/4 - 0s - loss: 0.4475 - accuracy: 0.8286 - 16ms/epoch - 4ms/step\n",
      "Epoch 39/100\n",
      "4/4 - 0s - loss: 0.3963 - accuracy: 0.8571 - 16ms/epoch - 4ms/step\n",
      "Epoch 40/100\n",
      "4/4 - 0s - loss: 0.3929 - accuracy: 0.8762 - 18ms/epoch - 5ms/step\n",
      "Epoch 41/100\n",
      "4/4 - 0s - loss: 0.3449 - accuracy: 0.8667 - 17ms/epoch - 4ms/step\n",
      "Epoch 42/100\n",
      "4/4 - 0s - loss: 0.3982 - accuracy: 0.8762 - 20ms/epoch - 5ms/step\n",
      "Epoch 43/100\n",
      "4/4 - 0s - loss: 0.3962 - accuracy: 0.8476 - 17ms/epoch - 4ms/step\n",
      "Epoch 44/100\n",
      "4/4 - 0s - loss: 0.3862 - accuracy: 0.8571 - 22ms/epoch - 5ms/step\n",
      "Epoch 45/100\n",
      "4/4 - 0s - loss: 0.3785 - accuracy: 0.8762 - 16ms/epoch - 4ms/step\n",
      "Epoch 46/100\n",
      "4/4 - 0s - loss: 0.3614 - accuracy: 0.8667 - 23ms/epoch - 6ms/step\n",
      "Epoch 47/100\n",
      "4/4 - 0s - loss: 0.3942 - accuracy: 0.8381 - 23ms/epoch - 6ms/step\n",
      "Epoch 48/100\n",
      "4/4 - 0s - loss: 0.3449 - accuracy: 0.8952 - 25ms/epoch - 6ms/step\n",
      "Epoch 49/100\n",
      "4/4 - 0s - loss: 0.3441 - accuracy: 0.8667 - 17ms/epoch - 4ms/step\n",
      "Epoch 50/100\n",
      "4/4 - 0s - loss: 0.3438 - accuracy: 0.8667 - 23ms/epoch - 6ms/step\n",
      "Epoch 51/100\n",
      "4/4 - 0s - loss: 0.3498 - accuracy: 0.8571 - 18ms/epoch - 4ms/step\n",
      "Epoch 52/100\n",
      "4/4 - 0s - loss: 0.3449 - accuracy: 0.8667 - 16ms/epoch - 4ms/step\n",
      "Epoch 53/100\n",
      "4/4 - 0s - loss: 0.3223 - accuracy: 0.9048 - 12ms/epoch - 3ms/step\n",
      "Epoch 54/100\n",
      "4/4 - 0s - loss: 0.3609 - accuracy: 0.8095 - 16ms/epoch - 4ms/step\n",
      "Epoch 55/100\n",
      "4/4 - 0s - loss: 0.3277 - accuracy: 0.8857 - 10ms/epoch - 2ms/step\n",
      "Epoch 56/100\n",
      "4/4 - 0s - loss: 0.3647 - accuracy: 0.8667 - 25ms/epoch - 6ms/step\n",
      "Epoch 57/100\n",
      "4/4 - 0s - loss: 0.3493 - accuracy: 0.8667 - 27ms/epoch - 7ms/step\n",
      "Epoch 58/100\n",
      "4/4 - 0s - loss: 0.3301 - accuracy: 0.8857 - 23ms/epoch - 6ms/step\n",
      "Epoch 59/100\n",
      "4/4 - 0s - loss: 0.2853 - accuracy: 0.8952 - 28ms/epoch - 7ms/step\n",
      "Epoch 60/100\n",
      "4/4 - 0s - loss: 0.3014 - accuracy: 0.9143 - 22ms/epoch - 6ms/step\n",
      "Epoch 61/100\n",
      "4/4 - 0s - loss: 0.2856 - accuracy: 0.9333 - 26ms/epoch - 6ms/step\n",
      "Epoch 62/100\n",
      "4/4 - 0s - loss: 0.2976 - accuracy: 0.8857 - 18ms/epoch - 5ms/step\n",
      "Epoch 63/100\n",
      "4/4 - 0s - loss: 0.2649 - accuracy: 0.9048 - 25ms/epoch - 6ms/step\n",
      "Epoch 64/100\n",
      "4/4 - 0s - loss: 0.3215 - accuracy: 0.8571 - 25ms/epoch - 6ms/step\n",
      "Epoch 65/100\n",
      "4/4 - 0s - loss: 0.2832 - accuracy: 0.9429 - 19ms/epoch - 5ms/step\n",
      "Epoch 66/100\n",
      "4/4 - 0s - loss: 0.2651 - accuracy: 0.9333 - 17ms/epoch - 4ms/step\n",
      "Epoch 67/100\n",
      "4/4 - 0s - loss: 0.2752 - accuracy: 0.9143 - 17ms/epoch - 4ms/step\n",
      "Epoch 68/100\n",
      "4/4 - 0s - loss: 0.2806 - accuracy: 0.9048 - 24ms/epoch - 6ms/step\n",
      "Epoch 69/100\n",
      "4/4 - 0s - loss: 0.2536 - accuracy: 0.9048 - 25ms/epoch - 6ms/step\n",
      "Epoch 70/100\n",
      "4/4 - 0s - loss: 0.2685 - accuracy: 0.9048 - 17ms/epoch - 4ms/step\n",
      "Epoch 71/100\n",
      "4/4 - 0s - loss: 0.2485 - accuracy: 0.9238 - 17ms/epoch - 4ms/step\n",
      "Epoch 72/100\n",
      "4/4 - 0s - loss: 0.2398 - accuracy: 0.9238 - 16ms/epoch - 4ms/step\n",
      "Epoch 73/100\n",
      "4/4 - 0s - loss: 0.2520 - accuracy: 0.9429 - 26ms/epoch - 7ms/step\n",
      "Epoch 74/100\n",
      "4/4 - 0s - loss: 0.2588 - accuracy: 0.9238 - 17ms/epoch - 4ms/step\n",
      "Epoch 75/100\n",
      "4/4 - 0s - loss: 0.2537 - accuracy: 0.9238 - 8ms/epoch - 2ms/step\n",
      "Epoch 76/100\n",
      "4/4 - 0s - loss: 0.2417 - accuracy: 0.9429 - 15ms/epoch - 4ms/step\n",
      "Epoch 77/100\n",
      "4/4 - 0s - loss: 0.2186 - accuracy: 0.9333 - 14ms/epoch - 3ms/step\n",
      "Epoch 78/100\n",
      "4/4 - 0s - loss: 0.2220 - accuracy: 0.9333 - 21ms/epoch - 5ms/step\n",
      "Epoch 79/100\n",
      "4/4 - 0s - loss: 0.2762 - accuracy: 0.9238 - 17ms/epoch - 4ms/step\n",
      "Epoch 80/100\n",
      "4/4 - 0s - loss: 0.2378 - accuracy: 0.9333 - 18ms/epoch - 5ms/step\n",
      "Epoch 81/100\n",
      "4/4 - 0s - loss: 0.2010 - accuracy: 0.9524 - 25ms/epoch - 6ms/step\n",
      "Epoch 82/100\n",
      "4/4 - 0s - loss: 0.2123 - accuracy: 0.9524 - 25ms/epoch - 6ms/step\n",
      "Epoch 83/100\n",
      "4/4 - 0s - loss: 0.1962 - accuracy: 0.9238 - 16ms/epoch - 4ms/step\n",
      "Epoch 84/100\n",
      "4/4 - 0s - loss: 0.1973 - accuracy: 0.9238 - 26ms/epoch - 6ms/step\n",
      "Epoch 85/100\n",
      "4/4 - 0s - loss: 0.1796 - accuracy: 0.9429 - 15ms/epoch - 4ms/step\n",
      "Epoch 86/100\n",
      "4/4 - 0s - loss: 0.1622 - accuracy: 0.9429 - 20ms/epoch - 5ms/step\n",
      "Epoch 87/100\n",
      "4/4 - 0s - loss: 0.1938 - accuracy: 0.9429 - 20ms/epoch - 5ms/step\n",
      "Epoch 88/100\n",
      "4/4 - 0s - loss: 0.1957 - accuracy: 0.9333 - 21ms/epoch - 5ms/step\n",
      "Epoch 89/100\n",
      "4/4 - 0s - loss: 0.1942 - accuracy: 0.9429 - 22ms/epoch - 5ms/step\n",
      "Epoch 90/100\n",
      "4/4 - 0s - loss: 0.1718 - accuracy: 0.9619 - 23ms/epoch - 6ms/step\n",
      "Epoch 91/100\n",
      "4/4 - 0s - loss: 0.1882 - accuracy: 0.9333 - 21ms/epoch - 5ms/step\n",
      "Epoch 92/100\n",
      "4/4 - 0s - loss: 0.1784 - accuracy: 0.9619 - 22ms/epoch - 6ms/step\n",
      "Epoch 93/100\n",
      "4/4 - 0s - loss: 0.1833 - accuracy: 0.9333 - 25ms/epoch - 6ms/step\n",
      "Epoch 94/100\n",
      "4/4 - 0s - loss: 0.1959 - accuracy: 0.9429 - 17ms/epoch - 4ms/step\n",
      "Epoch 95/100\n",
      "4/4 - 0s - loss: 0.1853 - accuracy: 0.9429 - 23ms/epoch - 6ms/step\n",
      "Epoch 96/100\n",
      "4/4 - 0s - loss: 0.1618 - accuracy: 0.9524 - 25ms/epoch - 6ms/step\n",
      "Epoch 97/100\n",
      "4/4 - 0s - loss: 0.1881 - accuracy: 0.9333 - 15ms/epoch - 4ms/step\n"
     ]
    },
    {
     "name": "stdout",
     "output_type": "stream",
     "text": [
      "Epoch 98/100\n",
      "4/4 - 0s - loss: 0.1503 - accuracy: 0.9619 - 24ms/epoch - 6ms/step\n",
      "Epoch 99/100\n",
      "4/4 - 0s - loss: 0.1362 - accuracy: 0.9429 - 17ms/epoch - 4ms/step\n",
      "Epoch 100/100\n",
      "4/4 - 0s - loss: 0.1946 - accuracy: 0.9238 - 16ms/epoch - 4ms/step\n"
     ]
    },
    {
     "data": {
      "text/plain": [
       "<keras.src.callbacks.History at 0x1e33fb89750>"
      ]
     },
     "execution_count": 20,
     "metadata": {},
     "output_type": "execute_result"
    }
   ],
   "source": [
    "model.fit(x_train, y_train, epochs=100, verbose=2)"
   ]
  },
  {
   "cell_type": "code",
   "execution_count": 21,
   "id": "0099b20f",
   "metadata": {},
   "outputs": [
    {
     "name": "stdout",
     "output_type": "stream",
     "text": [
      "2/2 [==============================] - 0s 5ms/step\n",
      "[[9.9997914e-01 1.7205253e-05 3.7395700e-06]\n",
      " [1.4269543e-02 9.4996244e-01 3.5767999e-02]\n",
      " [9.9984872e-01 1.3587814e-04 1.5399590e-05]\n",
      " [5.1711162e-04 9.8704724e-03 9.8961240e-01]\n",
      " [9.9978572e-01 1.8985666e-04 2.4488023e-05]]\n"
     ]
    }
   ],
   "source": [
    "prediction = model.predict(x_test)\n",
    "print(prediction[:5])"
   ]
  },
  {
   "cell_type": "code",
   "execution_count": 22,
   "id": "33f46322",
   "metadata": {},
   "outputs": [
    {
     "name": "stdout",
     "output_type": "stream",
     "text": [
      "[0 1 0 2 0]\n"
     ]
    }
   ],
   "source": [
    "prediction = np.argmax(prediction, axis=-1)\n",
    "print(prediction[:5])"
   ]
  },
  {
   "cell_type": "code",
   "execution_count": 23,
   "id": "553a37f1",
   "metadata": {},
   "outputs": [
    {
     "name": "stdout",
     "output_type": "stream",
     "text": [
      "4      0\n",
      "58     1\n",
      "20     0\n",
      "114    2\n",
      "31     0\n",
      "Name: Species, dtype: int32\n"
     ]
    }
   ],
   "source": [
    "print(y_test[:5])"
   ]
  },
  {
   "cell_type": "code",
   "execution_count": 24,
   "id": "4af6d316",
   "metadata": {},
   "outputs": [
    {
     "name": "stdout",
     "output_type": "stream",
     "text": [
      "0.9555555555555556\n"
     ]
    }
   ],
   "source": [
    "from sklearn.metrics import accuracy_score, confusion_matrix\n",
    "print(accuracy_score(y_test, prediction))"
   ]
  },
  {
   "cell_type": "code",
   "execution_count": 25,
   "id": "20c650e2",
   "metadata": {},
   "outputs": [
    {
     "name": "stdout",
     "output_type": "stream",
     "text": [
      "[[16  0  0]\n",
      " [ 0 12  0]\n",
      " [ 0  2 15]]\n"
     ]
    }
   ],
   "source": [
    "cm = confusion_matrix(y_test, prediction)\n",
    "print(cm)"
   ]
  },
  {
   "cell_type": "code",
   "execution_count": 26,
   "id": "b4d4a19b",
   "metadata": {},
   "outputs": [
    {
     "data": {
      "text/plain": [
       "Text(50.72222222222221, 0.5, 'actual')"
      ]
     },
     "execution_count": 26,
     "metadata": {},
     "output_type": "execute_result"
    },
    {
     "data": {
      "image/png": "[encoded data removed]",
      "text/plain": [
       "<Figure size 640x480 with 2 Axes>"
      ]
     },
     "metadata": {},
     "output_type": "display_data"
    }
   ],
   "source": [
    "ax = sns.heatmap(cm, annot=True, fmt='d', cmap='Reds', xticklabels=species_name, yticklabels=species_name)\n",
    "ax.set_title('confusion matrix for irsis dataset prediction')\n",
    "ax.set_xlabel('prediction', fontsize=14)\n",
    "ax.set_ylabel('actual', fontsize=14)"
   ]
  },
  {
   "cell_type": "code",
   "execution_count": null,
   "id": "8805b02a",
   "metadata": {},
   "outputs": [],
   "source": []
  }
 ],
 "metadata": {
  "kernelspec": {
   "display_name": "Python 3 (ipykernel)",
   "language": "python",
   "name": "python3"
  },
  "language_info": {
   "codemirror_mode": {
    "name": "ipython",
    "version": 3
   },
   "file_extension": ".py",
   "mimetype": "text/x-python",
   "name": "python",
   "nbconvert_exporter": "python",
   "pygments_lexer": "ipython3",
   "version": "3.11.3"
  }
 },
 "nbformat": 4,
 "nbformat_minor": 5
}
